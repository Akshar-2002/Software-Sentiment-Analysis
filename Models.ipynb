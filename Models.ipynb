{
  "cells": [
    {
      "cell_type": "code",
      "execution_count": 1,
      "id": "d23bb40b",
      "metadata": {
        "id": "d23bb40b"
      },
      "outputs": [],
      "source": [
        "import numpy as np\n",
        "import pandas as pd\n",
        "import nltk\n",
        "import re\n",
        "from bs4 import BeautifulSoup\n",
        "\n",
        "from sklearn.naive_bayes import MultinomialNB\n",
        "from sklearn.naive_bayes import BernoulliNB\n",
        "from sklearn.naive_bayes import GaussianNB\n",
        "from sklearn.svm import SVC\n",
        "from sklearn.linear_model import LogisticRegression\n",
        "from sklearn.tree import DecisionTreeClassifier\n",
        "from sklearn.neural_network import MLPClassifier\n",
        "from sklearn.preprocessing import MinMaxScaler\n",
        "from sklearn.ensemble import BaggingClassifier\n",
        "from sklearn.neighbors import KNeighborsClassifier\n",
        "from sklearn.ensemble import RandomForestClassifier\n",
        "from sklearn.ensemble import ExtraTreesClassifier\n",
        "from sklearn.ensemble import AdaBoostClassifier\n",
        "from sklearn.ensemble import GradientBoostingClassifier\n",
        "from sklearn.model_selection import ShuffleSplit"
      ]
    },
    {
      "cell_type": "code",
      "source": [
        "from google.colab import drive\n",
        "drive.mount('/content/gdrive')"
      ],
      "metadata": {
        "id": "L5GZUrJY9wjz",
        "colab": {
          "base_uri": "https://localhost:8080/"
        },
        "outputId": "bf81d438-a808-4ba9-eca0-f02ffe284505"
      },
      "id": "L5GZUrJY9wjz",
      "execution_count": 2,
      "outputs": [
        {
          "output_type": "stream",
          "name": "stdout",
          "text": [
            "Drive already mounted at /content/gdrive; to attempt to forcibly remount, call drive.mount(\"/content/gdrive\", force_remount=True).\n"
          ]
        }
      ]
    },
    {
      "cell_type": "code",
      "execution_count": 7,
      "id": "665f8ef6",
      "metadata": {
        "id": "665f8ef6"
      },
      "outputs": [],
      "source": [
        "def normalizedata(X_train):\n",
        "    scaler = MinMaxScaler()\n",
        "    scaler.fit(X_train)\n",
        "    X_train = scaler.transform(X_train)\n",
        "    return X_train\n",
        "\n",
        "def model1(trdata,tract,tsdata):\n",
        "    model = LogisticRegression(solver='lbfgs',max_iter=2000).fit(trdata,tract)\n",
        "    pred = model.predict(tsdata)\n",
        "    return pred\n",
        "\n",
        "def model2(trdata,tract,tsdata):\n",
        "    model = MultinomialNB()\n",
        "    model.fit(trdata,tract)\n",
        "    pred= model.predict(tsdata)\n",
        "    return pred\n",
        "\n",
        "def model3(trdata,tract,tsdata):\n",
        "    model = BernoulliNB()\n",
        "    model.fit(trdata,tract)\n",
        "    pred= model.predict(tsdata)\n",
        "    return pred\n",
        "\n",
        "def model4(trdata,tract,tsdata):\n",
        "    model = GaussianNB()\n",
        "    model.fit(trdata,tract)\n",
        "    pred= model.predict(tsdata)\n",
        "    return pred\n",
        "\n",
        "def model5(trdata,tract,tsdata):\n",
        "    model = DecisionTreeClassifier().fit(trdata,tract)\n",
        "    pred= model.predict(tsdata)\n",
        "    return pred\n",
        "\n",
        "def model6(trdata,tract,tsdata):\n",
        "    model = BaggingClassifier(KNeighborsClassifier(),max_samples=0.5, max_features=0.5).fit(trdata,tract)\n",
        "    pred= model.predict(tsdata)\n",
        "    return pred\n",
        "\n",
        "def model7(trdata,tract,tsdata):\n",
        "    model = RandomForestClassifier(n_estimators=10).fit(trdata,tract)\n",
        "    model.fit(trdata,tract)\n",
        "    pred= model.predict(tsdata)\n",
        "    return pred\n",
        "\n",
        "def model8(trdata,tract,tsdata):\n",
        "    model = ExtraTreesClassifier(n_estimators=10, max_depth=None,min_samples_split=2, random_state=0).fit(trdata,tract)\n",
        "    model.fit(trdata,tract)\n",
        "    pred= model.predict(tsdata)\n",
        "    return pred\n",
        "\n",
        "def model9(trdata,tract,tsdata):\n",
        "    model = AdaBoostClassifier(n_estimators=10).fit(trdata,tract)\n",
        "    pred= model.predict(tsdata)\n",
        "    return pred\n",
        "\n",
        "def model10(trdata,tract,tsdata):\n",
        "    model = GradientBoostingClassifier(n_estimators=10, learning_rate=1.0,max_depth=1, random_state=0).fit(trdata,tract)\n",
        "    pred= model.predict(tsdata)\n",
        "    return pred\n",
        "\n",
        "def model11(trdata,tract,tsdata):\n",
        "    model = SVC(kernel='poly').fit(trdata,tract)\n",
        "    pred= model.predict(tsdata)\n",
        "    return pred"
      ]
    },
    {
      "cell_type": "code",
      "execution_count": 8,
      "id": "aed1b2e2",
      "metadata": {
        "id": "aed1b2e2"
      },
      "outputs": [],
      "source": [
        "from sklearn.model_selection import KFold\n",
        "kf = ShuffleSplit(n_splits=10, test_size=0.1, random_state=0) "
      ]
    },
    {
      "cell_type": "code",
      "execution_count": 9,
      "id": "741c26fa",
      "metadata": {
        "id": "741c26fa"
      },
      "outputs": [],
      "source": [
        "def gen_models(kf, fname, out, i):\n",
        "    data=np.genfromtxt(fname,delimiter=',')\n",
        "    data[:,0:-1]=normalizedata(data[:,0:-1])\n",
        "    predvalue = np.zeros((np.shape(data)[0],11))\n",
        "    \n",
        "    for train_index, test_index in kf.split(data):\n",
        "        trdata=data[train_index,0:-1]\n",
        "        tsdata=data[test_index,0:-1]\n",
        "        tract=out[train_index]\n",
        "        tsact=out[test_index]\n",
        "        \n",
        "        predvalue[test_index,0]=model1(trdata,tract,tsdata)\n",
        "        predvalue[test_index,1]=model2(trdata,tract,tsdata)\n",
        "        predvalue[test_index,2]=model3(trdata,tract,tsdata)\n",
        "        predvalue[test_index,3]=model4(trdata,tract,tsdata)\n",
        "        predvalue[test_index,4]=model5(trdata,tract,tsdata)\n",
        "        predvalue[test_index,5]=model6(trdata,tract,tsdata)\n",
        "        predvalue[test_index,6]=model7(trdata,tract,tsdata)\n",
        "        predvalue[test_index,7]=model8(trdata,tract,tsdata)\n",
        "        predvalue[test_index,8]=model9(trdata,tract,tsdata)\n",
        "        predvalue[test_index,9]=model10(trdata,tract,tsdata)\n",
        "        predvalue[test_index,10]=model11(trdata,tract,tsdata)\n",
        "        \n",
        "    predvalue = np.column_stack((predvalue, out))\n",
        "        \n",
        "    fname = str(i) + '.csv'\n",
        "    np.savetxt(fname, predvalue, delimiter = ',', fmt = '%f')"
      ]
    },
    {
      "cell_type": "code",
      "execution_count": 10,
      "id": "94c70a4e",
      "metadata": {
        "id": "94c70a4e"
      },
      "outputs": [],
      "source": [
        "i = 1\n",
        "path = '/content/gdrive/My Drive/HPC_SSA/'\n",
        "fn=['AppReviews','JIRA','StackOverflow']\n",
        "for k in range(0,3):\n",
        "    fname = path + fn[k]+ '.csv'\n",
        "    df = pd.read_csv(fname,encoding='utf-8')\n",
        "    out = df['oracle']\n",
        "    out = out.to_numpy()\n",
        "    \n",
        "    gen_models(kf, path + fn[k] + 'cv.csv', out, i)\n",
        "    i = i + 1\n",
        "    gen_models(kf, path + fn[k] + 'tfidf.csv', out, i)\n",
        "    i = i + 1\n",
        "    gen_models(kf, path + fn[k] + 'cbow.csv', out, i)\n",
        "    i = i + 1\n",
        "    gen_models(kf, path + fn[k] + 'skg.csv', out, i)\n",
        "    i = i + 1\n",
        "    gen_models(kf, path + fn[k] + 'w2v.csv', out, i)\n",
        "    i = i + 1    \n",
        "    gen_models(kf, path + fn[k] + 'glove.csv', out, i)\n",
        "    i = i + 1"
      ]
    },
    {
      "cell_type": "code",
      "source": [],
      "metadata": {
        "id": "8423Eabib71i"
      },
      "id": "8423Eabib71i",
      "execution_count": null,
      "outputs": []
    }
  ],
  "metadata": {
    "kernelspec": {
      "display_name": "Python 3 (ipykernel)",
      "language": "python",
      "name": "python3"
    },
    "language_info": {
      "codemirror_mode": {
        "name": "ipython",
        "version": 3
      },
      "file_extension": ".py",
      "mimetype": "text/x-python",
      "name": "python",
      "nbconvert_exporter": "python",
      "pygments_lexer": "ipython3",
      "version": "3.8.12"
    },
    "colab": {
      "provenance": [],
      "machine_shape": "hm",
      "collapsed_sections": []
    },
    "accelerator": "TPU"
  },
  "nbformat": 4,
  "nbformat_minor": 5
}