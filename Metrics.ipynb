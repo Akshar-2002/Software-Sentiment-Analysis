{
  "cells": [
    {
      "cell_type": "code",
      "execution_count": 1,
      "id": "3801557b",
      "metadata": {
        "id": "3801557b"
      },
      "outputs": [],
      "source": [
        "import numpy as np\n",
        "from sklearn.metrics import (\n",
        "    f1_score, precision_score, recall_score, accuracy_score\n",
        "    )"
      ]
    },
    {
      "cell_type": "code",
      "source": [
        "from google.colab import drive\n",
        "drive.mount('/content/gdrive')"
      ],
      "metadata": {
        "colab": {
          "base_uri": "https://localhost:8080/"
        },
        "id": "rHYeExDfe6xm",
        "outputId": "0f48ba00-0cd1-46af-ef3b-5c8adc668d6b"
      },
      "id": "rHYeExDfe6xm",
      "execution_count": 2,
      "outputs": [
        {
          "output_type": "stream",
          "name": "stdout",
          "text": [
            "Mounted at /content/gdrive\n"
          ]
        }
      ]
    },
    {
      "cell_type": "code",
      "source": [
        "import warnings\n",
        "warnings.filterwarnings('ignore')"
      ],
      "metadata": {
        "id": "1JanfiDbf1v5"
      },
      "id": "1JanfiDbf1v5",
      "execution_count": 5,
      "outputs": []
    },
    {
      "cell_type": "code",
      "execution_count": 12,
      "id": "f84c63a0",
      "metadata": {
        "id": "f84c63a0"
      },
      "outputs": [],
      "source": [
        "fval=np.zeros((18,11))\n",
        "acv=np.zeros((18,11))\n",
        "prv=np.zeros((18,11))\n",
        "rev=np.zeros((18,11))"
      ]
    },
    {
      "cell_type": "code",
      "execution_count": 13,
      "id": "f58f308b",
      "metadata": {
        "id": "f58f308b"
      },
      "outputs": [],
      "source": [
        "path = '/content/gdrive/My Drive/HPC_SSA/'\n",
        "\n",
        "for i in range(1,19):\n",
        "     fname = path + str(i) + '.csv'\n",
        "     data = np.genfromtxt(fname, delimiter=',')\n",
        "     for j in range(0,11):\n",
        "         pred=data[:,j]\n",
        "         fval[i-1,j]=f1_score(data[:,-1], pred, average=\"weighted\")\n",
        "         acv[i-1,j]=accuracy_score(data[:,-1], pred)\n",
        "         prv[i-1,j]=precision_score(data[:,-1], pred, average=\"weighted\")\n",
        "         rev[i-1,j]=recall_score(data[:,-1], pred, average=\"weighted\")"
      ]
    },
    {
      "cell_type": "code",
      "execution_count": 14,
      "id": "a8f509b3",
      "metadata": {
        "id": "a8f509b3"
      },
      "outputs": [],
      "source": [
        "fname='acc.csv'    \n",
        "np.savetxt(fname,acv, delimiter=',', fmt='%f')      \n",
        "fname='fmea.csv'    \n",
        "np.savetxt(fname,fval, delimiter=',', fmt='%f')  \n",
        "fname='pre.csv'    \n",
        "np.savetxt(fname,prv, delimiter=',', fmt='%f')    \n",
        "fname='rec.csv'    \n",
        "np.savetxt(fname,rev, delimiter=',', fmt='%f')     "
      ]
    },
    {
      "cell_type": "code",
      "source": [],
      "metadata": {
        "id": "A3rNg_rCf5a8"
      },
      "id": "A3rNg_rCf5a8",
      "execution_count": null,
      "outputs": []
    }
  ],
  "metadata": {
    "kernelspec": {
      "display_name": "Python 3 (ipykernel)",
      "language": "python",
      "name": "python3"
    },
    "language_info": {
      "codemirror_mode": {
        "name": "ipython",
        "version": 3
      },
      "file_extension": ".py",
      "mimetype": "text/x-python",
      "name": "python",
      "nbconvert_exporter": "python",
      "pygments_lexer": "ipython3",
      "version": "3.8.12"
    },
    "colab": {
      "provenance": [],
      "machine_shape": "hm"
    },
    "accelerator": "TPU"
  },
  "nbformat": 4,
  "nbformat_minor": 5
}