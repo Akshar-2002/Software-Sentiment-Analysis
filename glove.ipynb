{
 "cells": [
  {
   "cell_type": "code",
   "execution_count": 1,
   "id": "c962fd10",
   "metadata": {},
   "outputs": [],
   "source": [
    "import logging\n",
    "import pandas as pd\n",
    "import numpy as np\n",
    "import gensim\n",
    "import nltk\n",
    "import re\n",
    "from bs4 import BeautifulSoup\n",
    "import csv"
   ]
  },
  {
   "cell_type": "code",
   "execution_count": 2,
   "id": "5aa9c877",
   "metadata": {},
   "outputs": [],
   "source": [
    "REPLACE_BY_SPACE_RE = re.compile('[/(){}\\[\\]\\|@,;]')\n",
    "BAD_SYMBOLS_RE = re.compile('[^0-9a-z #+_]')\n",
    "STOPWORDS =nltk.corpus.stopwords.words('english')"
   ]
  },
  {
   "cell_type": "code",
   "execution_count": 3,
   "id": "b5c6bcac",
   "metadata": {},
   "outputs": [],
   "source": [
    "import warnings\n",
    "warnings.filterwarnings('ignore')"
   ]
  },
  {
   "cell_type": "code",
   "execution_count": 4,
   "id": "63b5cd46",
   "metadata": {},
   "outputs": [],
   "source": [
    "def clean_text(text):\n",
    "    text = BeautifulSoup(text, \"lxml\").text # HTML decoding\n",
    "    text = text.lower() # lowercase text\n",
    "    text = REPLACE_BY_SPACE_RE.sub(' ', text) # replace REPLACE_BY_SPACE_RE symbols by space in text\n",
    "    text = BAD_SYMBOLS_RE.sub('', text) # delete symbols which are in BAD_SYMBOLS_RE from text\n",
    "    text = ' '.join(word for word in text.split() if word not in STOPWORDS) # delete stopwors from text\n",
    "    return text"
   ]
  },
  {
   "cell_type": "code",
   "execution_count": 5,
   "id": "061c80fe",
   "metadata": {},
   "outputs": [],
   "source": [
    "wv = pd.read_table('glove.6B.300d.txt', sep=\" \", index_col=0, header=None, quoting=csv.QUOTE_NONE)"
   ]
  },
  {
   "cell_type": "code",
   "execution_count": 6,
   "id": "e5576ca9",
   "metadata": {},
   "outputs": [],
   "source": [
    "def vec(w):\n",
    "  return wv.loc[w].as_matrix()"
   ]
  },
  {
   "cell_type": "code",
   "execution_count": 7,
   "id": "eff17c39",
   "metadata": {},
   "outputs": [],
   "source": [
    "def w2v_tokenize_text(text):\n",
    "    tokens = []\n",
    "    for sent in nltk.sent_tokenize(text, language='english'):\n",
    "        for word in nltk.word_tokenize(sent, language='english'):\n",
    "            if len(word) < 2:\n",
    "                continue\n",
    "            tokens.append(word)\n",
    "    return tokens"
   ]
  },
  {
   "cell_type": "code",
   "execution_count": 8,
   "id": "961d8739",
   "metadata": {},
   "outputs": [],
   "source": [
    "def wordprint(words,wv):\n",
    "    all_words, mean = set(), []\n",
    "    for word in words:\n",
    "        if isinstance(word, np.ndarray):\n",
    "            mean.append(word)\n",
    "        elif word in wv.index:\n",
    "           a=np.array(wv.loc[word])\n",
    "           mean.append(a)\n",
    "    if not mean:\n",
    "        logging.warning(\"cannot compute similarity with no input %s\", words)\n",
    "        # FIXME: remove these examples in pre-processing\n",
    "        return np.zeros(300,)   \n",
    "    mean = gensim.matutils.unitvec(np.array(mean).mean(axis=0)).astype(np.float32)\n",
    "    return mean"
   ]
  },
  {
   "cell_type": "code",
   "execution_count": 9,
   "id": "8750fa12",
   "metadata": {},
   "outputs": [],
   "source": [
    "def word_averaging_listn(wv, text_list):\n",
    "    return np.vstack([wordprint(post,wv) for post in text_list ])"
   ]
  },
  {
   "cell_type": "code",
   "execution_count": 10,
   "id": "416865c8",
   "metadata": {},
   "outputs": [
    {
     "name": "stdout",
     "output_type": "stream",
     "text": [
      "                                            sentence  oracle\n",
      "0  package file invalid phone factory reset wante...      -1\n",
      "1  iffy nice clean app sometimes works times does...      -1\n",
      "2                             cool freezes everytime      -1\n",
      "3  network error suddenly downloading update pack...      -1\n",
      "4  annoying let choose pictures want freezes forc...      -1\n",
      "5  anoying bug use powertoggles notification bar ...      -1\n",
      "6  resource error wont complete l freezes every t...      -1\n",
      "7  cant install cant install samsung note iii ple...      -1\n",
      "8  comprehensive flawed ive tried lots options no...      -1\n",
      "9  crashed system stopped working matter app kept...      -1\n"
     ]
    },
    {
     "name": "stderr",
     "output_type": "stream",
     "text": [
      "WARNING:root:cannot compute similarity with no input ['tooo', 'gooood']\n"
     ]
    },
    {
     "name": "stdout",
     "output_type": "stream",
     "text": [
      "                                            sentence  oracle\n",
      "0                                        guys stupid      -1\n",
      "1  lost whole morning cause hbases regionserver d...      -1\n",
      "2                       quote messing deep hbase dfs      -1\n",
      "3                   think going sweep shit kill root      -1\n",
      "4  idiot yeah idiotpath good commonslang hairball...      -1\n",
      "5                          pull back think different      -1\n",
      "6                                               suck      -1\n",
      "7  still stuck loop though cant actually close re...      -1\n",
      "8            original edited patch messed stupid sed      -1\n",
      "9                                   made stupid rule      -1\n"
     ]
    },
    {
     "name": "stderr",
     "output_type": "stream",
     "text": [
      "WARNING:root:cannot compute similarity with no input []\n"
     ]
    },
    {
     "name": "stdout",
     "output_type": "stream",
     "text": [
      "    id                                           sentence  oracle\n",
      "0    6                                      sadly working      -1\n",
      "1   78  everything builds fine try deploy application ...      -1\n",
      "2   90                     causing null pointer exception      -1\n",
      "3  139            attempts ive made shortcut unsuccessful      -1\n",
      "4  162                                           dont use      -1\n",
      "5  187  however try run file_name gives system cant fi...      -1\n",
      "6  200  problem without zooming added content doesnt g...      -1\n",
      "7  201  application workaround scaling window size app...      -1\n",
      "8  256                                    else gui hanged      -1\n",
      "9  342                  sure map implementation hazelcast      -1\n"
     ]
    },
    {
     "name": "stderr",
     "output_type": "stream",
     "text": [
      "WARNING:root:cannot compute similarity with no input []\n",
      "WARNING:root:cannot compute similarity with no input ['file_name']\n",
      "WARNING:root:cannot compute similarity with no input ['file_name']\n",
      "WARNING:root:cannot compute similarity with no input ['file_name']\n",
      "WARNING:root:cannot compute similarity with no input ['api_name']\n",
      "WARNING:root:cannot compute similarity with no input ['logcat']\n",
      "WARNING:root:cannot compute similarity with no input ['code_fragment']\n",
      "WARNING:root:cannot compute similarity with no input ['file_name']\n",
      "WARNING:root:cannot compute similarity with no input ['code_fragment', 'code_fragment']\n",
      "WARNING:root:cannot compute similarity with no input ['insertandretriveblobdata']\n",
      "WARNING:root:cannot compute similarity with no input ['logcat']\n",
      "WARNING:root:cannot compute similarity with no input []\n",
      "WARNING:root:cannot compute similarity with no input ['dispatherconfig']\n",
      "WARNING:root:cannot compute similarity with no input []\n",
      "WARNING:root:cannot compute similarity with no input ['macosx', 'menubar']\n",
      "WARNING:root:cannot compute similarity with no input []\n",
      "WARNING:root:cannot compute similarity with no input []\n",
      "WARNING:root:cannot compute similarity with no input ['shouldnt', 'fromindex', 'toindex']\n",
      "WARNING:root:cannot compute similarity with no input ['regex']\n",
      "WARNING:root:cannot compute similarity with no input ['file_name', 'massagesalon']\n",
      "WARNING:root:cannot compute similarity with no input ['code_fragment']\n",
      "WARNING:root:cannot compute similarity with no input ['code_fragment', 'code_fragment']\n",
      "WARNING:root:cannot compute similarity with no input []\n"
     ]
    }
   ],
   "source": [
    "fn=['AppReviews','JIRA','StackOverflow']\n",
    "for k in range(0,3):\n",
    "    fname=fn[k]+'.csv'\n",
    "    df = pd.read_csv(fname,encoding='utf-8')\n",
    "    df['sentence'] = df['sentence'].apply(clean_text)\n",
    "    print(df.head(10))\n",
    "    comtdata=df\n",
    "    test_tokenized = comtdata.apply(lambda r: w2v_tokenize_text(r['sentence']), axis=1).values\n",
    "    X_comtdata_averagen=word_averaging_listn(wv, test_tokenized)\n",
    "    fname=fn[k]+'glove.csv'\n",
    "    np.savetxt(fname,X_comtdata_averagen, delimiter=',', fmt='%f')"
   ]
  }
 ],
 "metadata": {
  "kernelspec": {
   "display_name": "Python 3 (ipykernel)",
   "language": "python",
   "name": "python3"
  },
  "language_info": {
   "codemirror_mode": {
    "name": "ipython",
    "version": 3
   },
   "file_extension": ".py",
   "mimetype": "text/x-python",
   "name": "python",
   "nbconvert_exporter": "python",
   "pygments_lexer": "ipython3",
   "version": "3.8.12"
  }
 },
 "nbformat": 4,
 "nbformat_minor": 5
}
