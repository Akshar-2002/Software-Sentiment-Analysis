{
 "cells": [
  {
   "cell_type": "code",
   "execution_count": 5,
   "id": "3f2c9600",
   "metadata": {},
   "outputs": [],
   "source": [
    "import pandas as pd\n",
    "import nltk\n",
    "import re\n",
    "from bs4 import BeautifulSoup\n",
    "import numpy as np"
   ]
  },
  {
   "cell_type": "code",
   "execution_count": 6,
   "id": "bb354568",
   "metadata": {},
   "outputs": [],
   "source": [
    "REPLACE_BY_SPACE_RE = re.compile('[/(){}\\[\\]\\|@,;]')\n",
    "BAD_SYMBOLS_RE = re.compile('[^0-9a-z #+_]')\n",
    "STOPWORDS =nltk.corpus.stopwords.words('english')"
   ]
  },
  {
   "cell_type": "code",
   "execution_count": 7,
   "id": "748bbfb4",
   "metadata": {},
   "outputs": [],
   "source": [
    "import warnings\n",
    "warnings.filterwarnings('ignore')"
   ]
  },
  {
   "cell_type": "code",
   "execution_count": 8,
   "id": "25b59a72",
   "metadata": {},
   "outputs": [],
   "source": [
    "def clean_text(text):\n",
    "    text = BeautifulSoup(text, \"lxml\").text # HTML decoding\n",
    "    text = text.lower() # lowercase text\n",
    "    text = REPLACE_BY_SPACE_RE.sub(' ', text) # replace REPLACE_BY_SPACE_RE symbols by space in text\n",
    "    text = BAD_SYMBOLS_RE.sub('', text) # delete symbols which are in BAD_SYMBOLS_RE from text\n",
    "    text = ' '.join(word for word in text.split() if word not in STOPWORDS) # delete stopwors from text\n",
    "    return text"
   ]
  },
  {
   "cell_type": "code",
   "execution_count": 9,
   "id": "40be4d94",
   "metadata": {},
   "outputs": [
    {
     "name": "stdout",
     "output_type": "stream",
     "text": [
      "                                            sentence  oracle\n",
      "0  package file invalid phone factory reset wante...      -1\n",
      "1  iffy nice clean app sometimes works times does...      -1\n",
      "2                             cool freezes everytime      -1\n",
      "3  network error suddenly downloading update pack...      -1\n",
      "4  annoying let choose pictures want freezes forc...      -1\n",
      "                                            sentence  oracle\n",
      "0                                        guys stupid      -1\n",
      "1  lost whole morning cause hbases regionserver d...      -1\n",
      "2                       quote messing deep hbase dfs      -1\n",
      "3                   think going sweep shit kill root      -1\n",
      "4  idiot yeah idiotpath good commonslang hairball...      -1\n",
      "    id                                           sentence  oracle\n",
      "0    6                                      sadly working      -1\n",
      "1   78  everything builds fine try deploy application ...      -1\n",
      "2   90                     causing null pointer exception      -1\n",
      "3  139            attempts ive made shortcut unsuccessful      -1\n",
      "4  162                                           dont use      -1\n"
     ]
    }
   ],
   "source": [
    "from sklearn.feature_extraction.text import TfidfVectorizer\n",
    "tfidf = TfidfVectorizer()\n",
    "fn=['AppReviews','JIRA','StackOverflow']\n",
    "for k in range(0,3):\n",
    "    fname=fn[k]+'.csv'\n",
    "    df = pd.read_csv(fname,encoding='utf-8')\n",
    "    df['sentence'] = df['sentence'].apply(clean_text)\n",
    "    print(df.head())\n",
    "    x = tfidf.fit_transform(df['sentence'])\n",
    "    df_tfidf = pd.DataFrame(x.toarray())\n",
    "    x=np.array(df_tfidf)\n",
    "    fname=fn[k]+'tfidf.csv'\n",
    "    np.savetxt(fname,x, delimiter=',', fmt='%f')  "
   ]
  }
 ],
 "metadata": {
  "kernelspec": {
   "display_name": "Python 3 (ipykernel)",
   "language": "python",
   "name": "python3"
  },
  "language_info": {
   "codemirror_mode": {
    "name": "ipython",
    "version": 3
   },
   "file_extension": ".py",
   "mimetype": "text/x-python",
   "name": "python",
   "nbconvert_exporter": "python",
   "pygments_lexer": "ipython3",
   "version": "3.8.12"
  }
 },
 "nbformat": 4,
 "nbformat_minor": 5
}
